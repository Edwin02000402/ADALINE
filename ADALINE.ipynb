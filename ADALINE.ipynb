{
 "cells": [
  {
   "cell_type": "markdown",
   "metadata": {},
   "source": [
    "Serrano Espinoza Edwin \n",
    "\n",
    "\n",
    "# ADALINE\n",
    "\n",
    "## ¿Qué es?\n",
    "\n",
    "ADALINE (ADAptative LInear NEuron) fue desarrollada por Widow y Hoff en 1960. Es una red simple de dos capas. La función de activación no linear en la salida es una función escalón producida por una unidad de límite binario. Esta red pude ser formada al simplemente añadir la función de escalón a la salida. [1] \n",
    "\n",
    "### Arquitectura\n",
    "\n",
    "<img src=\"arquitectura.jpg\">\n",
    "Se puede apreciar la entrada que contiene varios nodos desde P1 a Pr que se conectan a cada neurona de la siguiente capa con sus pesos respectivos, luego sepuede onserva que cada neurona se conecta a su salida respectiva siendo calculada con una función Pureline.\n",
    "\n",
    "### Diferencias con la red de perceptrón simple \n",
    "\n",
    "* El Perceptron usa las etiquetas de clase para aprender los coeficientes del modelo\n",
    "* Adaline usa valores continuos pronosticados (de la entrada neta) para aprender los coeficientes del modelo, que es más \"poderoso\" ya que nos dice por \"cuánto\" estábamos en lo correcto o equivocado. [2]\n",
    "Entonces, en el perceptrón, como se ilustra a continuación, simplemente usamos las etiquetas de clase predichas para actualizar los pesos, y en Adaline, usamos una respuesta continua:\n",
    "<img src=\"4.png\">\n",
    "La regresión lineal y las neuronas lineales adaptativas (Adalines) están estrechamente relacionadas entre sí. De hecho, el algoritmo de Adaline es idéntico a la regresión lineal, excepto por una **función de umbral** φ(⋅)T\n",
    "que convierte la salida continua en una etiqueta de clase categórica [3]:\n",
    "<div style=\"text-align:center\">   \n",
    "    $\n",
    "       \\begin{split}\n",
    "               φ{(z)}T=\\begin{cases}\n",
    "               1~ if & \\mathbf{z \\geq 0}\\\\\n",
    "               0~ if & \\mathbf{z < 0}\n",
    "        \\end{cases}\n",
    "       \\end{split}\n",
    "    $\n",
    "</div>\n",
    "\n",
    "Donde $z$ es la entrada de la red, que se calcula como la suma de las características de entrada $x$ multiplicado por el peso del modelo $w$:\n",
    "<div style=\"text-align:center\">\n",
    "    $z=w_{0}x_{0}+w_{1}x_{1}+....w_{m}x_{m} = \\sum_{j=0}^{m} w_{j}x_{j} = w^{T} x$\n",
    "</div>\n"
   ]
  },
  {
   "cell_type": "markdown",
   "metadata": {},
   "source": [
    "### Ejemplo ADALINE:\n",
    "En este ejemplo realizado por K. Hong, se usar el dataset iris para realizar una clasifiación con la red neuronal ADALINE, el proceso de optimizaicón usado es el de descen"
   ]
  },
  {
   "cell_type": "code",
   "execution_count": 6,
   "metadata": {},
   "outputs": [
    {
     "name": "stderr",
     "output_type": "stream",
     "text": [
      "'c' argument looks like a single numeric RGB or RGBA sequence, which should be avoided as value-mapping will have precedence in case its length matches with 'x' & 'y'.  Please use a 2-D array with a single row if you really want to specify the same RGB or RGBA value for all points.\n",
      "'c' argument looks like a single numeric RGB or RGBA sequence, which should be avoided as value-mapping will have precedence in case its length matches with 'x' & 'y'.  Please use a 2-D array with a single row if you really want to specify the same RGB or RGBA value for all points.\n"
     ]
    },
    {
     "data": {
      "image/png": "[encoded data removed]",
      "text/plain": [
       "<Figure size 432x288 with 1 Axes>"
      ]
     },
     "metadata": {
      "needs_background": "light"
     },
     "output_type": "display_data"
    },
    {
     "data": {
      "image/png": "[encoded data removed]",
      "text/plain": [
       "<Figure size 432x288 with 1 Axes>"
      ]
     },
     "metadata": {
      "needs_background": "light"
     },
     "output_type": "display_data"
    }
   ],
   "source": [
    "import matplotlib.pyplot as plt\n",
    "import numpy as np\n",
    "import pandas as pd\n",
    "from matplotlib.colors import ListedColormap\n",
    "\n",
    "class AdaptiveLinearNeuron(object):\n",
    "   def __init__(self, rate = 0.01, niter = 10):\n",
    "      self.rate = rate\n",
    "      self.niter = niter\n",
    "\n",
    "   def fit(self, X, y):\n",
    "\n",
    "\n",
    "      # weights\n",
    "      self.weight = np.zeros(1 + X.shape[1])\n",
    "\n",
    "      # Number of misclassifications\n",
    "      self.errors = []\n",
    "\n",
    "      # Cost function\n",
    "      self.cost = []\n",
    "\n",
    "      for i in range(self.niter):\n",
    "         output = self.net_input(X)\n",
    "         errors = y - output\n",
    "         self.weight[1:] += self.rate * X.T.dot(errors)\n",
    "         self.weight[0] += self.rate * errors.sum()\n",
    "         cost = (errors**2).sum() / 2.0\n",
    "         self.cost.append(cost)\n",
    "      return self\n",
    "\n",
    "   def net_input(self, X):\n",
    "      \"\"\"Calculate net input\"\"\"\n",
    "      return np.dot(X, self.weight[1:]) + self.weight[0]\n",
    "\n",
    "   def activation(self, X):\n",
    "      \"\"\"Compute linear activation\"\"\"\n",
    "      return self.net_input(X)\n",
    "\n",
    "   def predict(self, X):\n",
    "      \"\"\"Return class label after unit step\"\"\"\n",
    "      return np.where(self.activation(X) >= 0.0, 1, -1)\n",
    "\n",
    "def plot_decision_regions(X, y, classifier, resolution=0.02):\n",
    "   # setup marker generator and color map\n",
    "   markers = ('s', 'x', 'o', '^', 'v')\n",
    "   colors = ('red', 'blue', 'lightgreen', 'gray', 'cyan')\n",
    "   cmap = ListedColormap(colors[:len(np.unique(y))])\n",
    "\n",
    "   # plot the decision surface\n",
    "   x1_min, x1_max = X[:,  0].min() - 1, X[:, 0].max() + 1\n",
    "   x2_min, x2_max = X[:, 1].min() - 1, X[:, 1].max() + 1\n",
    "   xx1, xx2 = np.meshgrid(np.arange(x1_min, x1_max, resolution),\n",
    "   np.arange(x2_min, x2_max, resolution))\n",
    "   Z = classifier.predict(np.array([xx1.ravel(), xx2.ravel()]).T)\n",
    "   Z = Z.reshape(xx1.shape)\n",
    "   plt.contourf(xx1, xx2, Z, alpha=0.4, cmap=cmap)\n",
    "   plt.xlim(xx1.min(), xx1.max())\n",
    "   plt.ylim(xx2.min(), xx2.max())\n",
    "\n",
    "   # plot class samples\n",
    "   for idx, cl in enumerate(np.unique(y)):\n",
    "      plt.scatter(x=X[y == cl, 0], y=X[y == cl, 1],\n",
    "      alpha=0.8, c=cmap(idx),\n",
    "      marker=markers[idx], label=cl)\n",
    "\n",
    "df = pd.read_csv('https://archive.ics.uci.edu/ml/machine-learning-databases/iris/iris.data', header=None)\n",
    "\n",
    "y = df.iloc[0:100, 4].values\n",
    "y = np.where(y == 'Iris-setosa', -1, 1)\n",
    "X = df.iloc[0:100, [0, 2]].values\n",
    "\n",
    "# standardize\n",
    "X_std = np.copy(X)\n",
    "X_std[:,0] = (X[:,0] - X[:,0].mean()) / X[:,0].std()\n",
    "X_std[:,1] = (X[:,1] - X[:,1].mean()) / X[:,1].std()\n",
    "\n",
    "# learning rate = 0.01\n",
    "aln = AdaptiveLinearNeuron(0.01, 10)\n",
    "aln.fit(X_std,y)\n",
    "\n",
    "# decision region plot\n",
    "plot_decision_regions(X_std, y, classifier=aln)\n",
    "\n",
    "plt.title('Adaptive Linear Neuron - Gradient Descent')\n",
    "plt.xlabel('sepal length [standardized]')\n",
    "plt.ylabel('petal length [standardized]')\n",
    "plt.legend(loc='upper left')\n",
    "plt.show()\n",
    "\n",
    "plt.plot(range(1, len(aln.cost) + 1), aln.cost, marker='o')\n",
    "plt.xlabel('Epochs')\n",
    "plt.ylabel('Sum-squared-error')\n",
    "plt.show()"
   ]
  },
  {
   "cell_type": "markdown",
   "metadata": {},
   "source": [
    "## Ejemplo\n",
    "\n",
    "$R\\quad =\\quad \\frac { 1 }{ 4 } \\quad \\left( \\left( \\begin{matrix} 1 \\\\ 2 \\\\ 1 \\end{matrix} \\right) \\left( \\begin{matrix} 1 & \\quad 2 & \\quad 1 \\end{matrix} \\right) \\quad +\\quad \\left( \\begin{matrix} 2 \\\\ 3 \\\\ 1 \\end{matrix} \\right) \\left( \\begin{matrix} 2 & \\quad 3 & \\quad 1 \\end{matrix} \\right) \\quad +\\quad \\left( \\begin{matrix} 3 \\\\ 1 \\\\ 1 \\end{matrix} \\right) \\left( \\begin{matrix} 3 & \\quad 1 & \\quad 1 \\end{matrix} \\right) \\quad +\\quad \\left( \\begin{matrix} 5 \\\\ 2 \\\\ 1 \\end{matrix} \\right) \\left( \\begin{matrix} 5 & \\quad 2 & \\quad 1 \\end{matrix} \\right)  \\right) \\\\ \\\\ \\\\ \\\\ \\\\ \\\\ R\\quad =\\quad \\frac { 1 }{ 4 } \\quad \\left( \\begin{matrix} 39 & 21 & 11 \\\\ 21 & 18 & 8 \\\\ 11 & 8 & 4 \\end{matrix} \\right) \\quad \\quad \\quad \\quad \\quad \\quad \\quad \\quad \\quad \\quad \\quad \\quad \\quad \\quad \\quad \\quad \\quad \\\\ \\\\ \\\\ \\\\ \\\\ \\\\ \\\\ R\\quad =\\quad \\frac { 1 }{ 4 } \\quad \\left( \\begin{matrix} \\frac { 39 }{ 4 }  & \\frac { 21 }{ 4 }  & \\frac { 11 }{ 4 }  \\\\ \\frac { 21 }{ 4 }  & \\frac { 9 }{ 2 }  & 2 \\\\ \\frac { 11 }{ 4 }  & 2 & 1 \\end{matrix} \\right) \\\\ \\\\ \\\\ \\\\ \\\\ \\\\ R\\quad =\\quad \\frac { 1 }{ 4 } \\quad \\left( -1\\left( \\begin{matrix} 1 \\\\ 2 \\\\ 1 \\end{matrix} \\right) \\quad -1\\quad \\left( \\begin{matrix} 2 \\\\ 3 \\\\ 1 \\end{matrix} \\right) \\quad -1\\quad \\left( \\begin{matrix} 3 \\\\ 1 \\\\ 1 \\end{matrix} \\right) \\quad +\\quad 1\\quad \\left( \\begin{matrix} 5 \\\\ 2 \\\\ 1 \\end{matrix} \\right)  \\right) \\\\ \\\\ \\\\ \\\\ \\\\ \\\\ \\\\ R\\quad =\\quad \\frac { 1 }{ 4 } \\quad \\left( \\left( \\begin{matrix} 5 \\\\ -2 \\\\ 0 \\end{matrix} \\right) \\quad  \\right) \\quad \\quad =\\quad \\quad \\quad \\left[ \\begin{matrix} 5/4 \\\\ -1/2 \\\\ 0 \\end{matrix} \\right] \\\\ \\\\ \\\\ \\\\ \\\\ \\\\ \\\\ \\\\ X=\\quad \\left( \\begin{matrix} \\frac { 16 }{ 33 }  & \\frac { 8 }{ 33 }  & -\\frac { 20 }{ 11 }  \\\\ \\frac { 8 }{ 33 }  & \\frac { 70 }{ 33 }  & -\\frac { 54 }{ 11 }  \\\\ -\\frac { 20 }{ 11 }  & -\\frac { 54 }{ 11 }  & \\frac { 174 }{ 11 }  \\end{matrix} \\right) \\quad \\quad \\quad \\quad \\quad \\quad \\quad \\left[ \\begin{matrix} 5/4 \\\\ -1/2 \\\\ 0 \\end{matrix} \\right] \\\\ \\\\ \\\\ \\\\ \\\\ \\\\ \\\\ \\\\ X\\quad =\\quad \\left[ \\begin{matrix} 16/33 \\\\ -25/33 \\\\ 2/11 \\end{matrix} \\right] \\quad \\quad \\\\ \\\\ \\\\ \\\\ \\\\ \\\\ $"
   ]
  },
  {
   "cell_type": "markdown",
   "metadata": {},
   "source": [
    "## Referencias\n",
    "[1] Neural Networks for Intelligent Signal Processing Escrito por Anthony Zaknich\n",
    "<br>\n",
    "[2] https://sebastianraschka.com/faq/docs/diff-perceptron-adaline-neuralnet.html\n",
    "<br>\n",
    "[3] http://rasbt.github.io/mlxtend/user_guide/general_concepts/linear-gradient-derivative/\n",
    "<br>\n",
    "[4] MADALINE RULE II: A Training Algorithm for Neural Networks by Capt. Rodney Winter, USAF and pt. Rodney Winter, USAF Dept. of Electrical Engineering Stanford University"
   ]
  }
 ],
 "metadata": {
  "kernelspec": {
   "display_name": "Python 3",
   "language": "python",
   "name": "python3"
  },
  "language_info": {
   "codemirror_mode": {
    "name": "ipython",
    "version": 3
   },
   "file_extension": ".py",
   "mimetype": "text/x-python",
   "name": "python",
   "nbconvert_exporter": "python",
   "pygments_lexer": "ipython3",
   "version": "3.7.1"
  }
 },
 "nbformat": 4,
 "nbformat_minor": 2
}
